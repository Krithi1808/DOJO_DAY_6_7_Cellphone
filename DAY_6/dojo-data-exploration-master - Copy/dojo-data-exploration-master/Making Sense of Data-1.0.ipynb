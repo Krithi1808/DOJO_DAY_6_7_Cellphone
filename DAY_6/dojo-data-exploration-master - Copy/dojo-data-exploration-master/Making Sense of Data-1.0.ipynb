{
 "cells": [
  {
   "cell_type": "markdown",
   "id": "4b3d3e70-c8f0-4e13-ace0-bf3d59a273b8",
   "metadata": {},
   "source": [
    "**<h2>Exploratory Data Analysis</h2>**\n",
    "- An analysis approach that identifies general patterns in the data.\n",
    "- Used to understand the data sets by summarizing their main characteristics often plotting them visually."
   ]
  },
  {
   "cell_type": "markdown",
   "id": "5bfea40c-767b-4767-812f-28fbe1a68fb9",
   "metadata": {},
   "source": [
    "**Import required libraries**\n",
    "- Below mentioned are the libraries used to perform EDA"
   ]
  },
  {
   "cell_type": "code",
   "execution_count": 15,
   "id": "98019d7e-1db0-448b-95f8-e8e3ecd7a4c3",
   "metadata": {},
   "outputs": [],
   "source": [
    "import pandas as pd\n",
    "import numpy as np\n",
    "import seaborn as sns                       \n",
    "import matplotlib.pyplot as plt             \n",
    "%matplotlib inline     "
   ]
  },
  {
   "cell_type": "markdown",
   "id": "e6bf3b51-48b6-4ea6-bc1e-230eee7fd1a3",
   "metadata": {},
   "source": [
    "**Load the dataset**\n",
    "- Loading the `lagairogo_train_m` dataset which is in the csv format.\n",
    "- Using pandas library read the csv file into pandas dataframe."
   ]
  },
  {
   "cell_type": "code",
   "execution_count": 16,
   "id": "56d5387f-9387-4a27-be02-abeba950b3d3",
   "metadata": {},
   "outputs": [],
   "source": [
    "df = pd.read_csv('lagairogo_train_m.csv')"
   ]
  },
  {
   "cell_type": "code",
   "execution_count": 17,
   "id": "3628915d-46b9-4243-a5df-01c6ceb80399",
   "metadata": {},
   "outputs": [
    {
     "data": {
      "text/html": [
       "<div>\n",
       "<style scoped>\n",
       "    .dataframe tbody tr th:only-of-type {\n",
       "        vertical-align: middle;\n",
       "    }\n",
       "\n",
       "    .dataframe tbody tr th {\n",
       "        vertical-align: top;\n",
       "    }\n",
       "\n",
       "    .dataframe thead th {\n",
       "        text-align: right;\n",
       "    }\n",
       "</style>\n",
       "<table border=\"1\" class=\"dataframe\">\n",
       "  <thead>\n",
       "    <tr style=\"text-align: right;\">\n",
       "      <th></th>\n",
       "      <th>battery_power</th>\n",
       "      <th>blue</th>\n",
       "      <th>clock_speed</th>\n",
       "      <th>dual_sim</th>\n",
       "      <th>fc</th>\n",
       "      <th>four_g</th>\n",
       "      <th>int_memory</th>\n",
       "      <th>m_dep</th>\n",
       "      <th>mobile_wt</th>\n",
       "      <th>n_cores</th>\n",
       "      <th>...</th>\n",
       "      <th>px_height</th>\n",
       "      <th>px_width</th>\n",
       "      <th>ram</th>\n",
       "      <th>sc_h</th>\n",
       "      <th>sc_w</th>\n",
       "      <th>talk_time</th>\n",
       "      <th>three_g</th>\n",
       "      <th>touch_screen</th>\n",
       "      <th>wifi</th>\n",
       "      <th>price_range</th>\n",
       "    </tr>\n",
       "  </thead>\n",
       "  <tbody>\n",
       "    <tr>\n",
       "      <th>0</th>\n",
       "      <td>842.0</td>\n",
       "      <td>0</td>\n",
       "      <td>2.2</td>\n",
       "      <td>0</td>\n",
       "      <td>1</td>\n",
       "      <td>0</td>\n",
       "      <td>7.0</td>\n",
       "      <td>0.6</td>\n",
       "      <td>188.0</td>\n",
       "      <td>2</td>\n",
       "      <td>...</td>\n",
       "      <td>20</td>\n",
       "      <td>756.0</td>\n",
       "      <td>2549.0</td>\n",
       "      <td>9</td>\n",
       "      <td>7</td>\n",
       "      <td>19.0</td>\n",
       "      <td>0</td>\n",
       "      <td>0</td>\n",
       "      <td>1</td>\n",
       "      <td>1</td>\n",
       "    </tr>\n",
       "    <tr>\n",
       "      <th>1</th>\n",
       "      <td>1021.0</td>\n",
       "      <td>1</td>\n",
       "      <td>0.5</td>\n",
       "      <td>1</td>\n",
       "      <td>0</td>\n",
       "      <td>1</td>\n",
       "      <td>53.0</td>\n",
       "      <td>0.7</td>\n",
       "      <td>136.0</td>\n",
       "      <td>3</td>\n",
       "      <td>...</td>\n",
       "      <td>905</td>\n",
       "      <td>1988.0</td>\n",
       "      <td>2631.0</td>\n",
       "      <td>17</td>\n",
       "      <td>3</td>\n",
       "      <td>7.0</td>\n",
       "      <td>1</td>\n",
       "      <td>1</td>\n",
       "      <td>0</td>\n",
       "      <td>2</td>\n",
       "    </tr>\n",
       "    <tr>\n",
       "      <th>2</th>\n",
       "      <td>563.0</td>\n",
       "      <td>1</td>\n",
       "      <td>0.5</td>\n",
       "      <td>1</td>\n",
       "      <td>2</td>\n",
       "      <td>1</td>\n",
       "      <td>41.0</td>\n",
       "      <td>0.9</td>\n",
       "      <td>145.0</td>\n",
       "      <td>5</td>\n",
       "      <td>...</td>\n",
       "      <td>1263</td>\n",
       "      <td>1716.0</td>\n",
       "      <td>2603.0</td>\n",
       "      <td>11</td>\n",
       "      <td>2</td>\n",
       "      <td>9.0</td>\n",
       "      <td>1</td>\n",
       "      <td>1</td>\n",
       "      <td>0</td>\n",
       "      <td>2</td>\n",
       "    </tr>\n",
       "    <tr>\n",
       "      <th>3</th>\n",
       "      <td>615.0</td>\n",
       "      <td>1</td>\n",
       "      <td>2.5</td>\n",
       "      <td>0</td>\n",
       "      <td>0</td>\n",
       "      <td>0</td>\n",
       "      <td>10.0</td>\n",
       "      <td>0.8</td>\n",
       "      <td>131.0</td>\n",
       "      <td>6</td>\n",
       "      <td>...</td>\n",
       "      <td>1216</td>\n",
       "      <td>1786.0</td>\n",
       "      <td>2769.0</td>\n",
       "      <td>16</td>\n",
       "      <td>8</td>\n",
       "      <td>11.0</td>\n",
       "      <td>1</td>\n",
       "      <td>0</td>\n",
       "      <td>0</td>\n",
       "      <td>2</td>\n",
       "    </tr>\n",
       "    <tr>\n",
       "      <th>4</th>\n",
       "      <td>1821.0</td>\n",
       "      <td>1</td>\n",
       "      <td>1.2</td>\n",
       "      <td>0</td>\n",
       "      <td>13</td>\n",
       "      <td>1</td>\n",
       "      <td>44.0</td>\n",
       "      <td>0.6</td>\n",
       "      <td>141.0</td>\n",
       "      <td>2</td>\n",
       "      <td>...</td>\n",
       "      <td>1208</td>\n",
       "      <td>1212.0</td>\n",
       "      <td>1411.0</td>\n",
       "      <td>8</td>\n",
       "      <td>2</td>\n",
       "      <td>15.0</td>\n",
       "      <td>1</td>\n",
       "      <td>1</td>\n",
       "      <td>0</td>\n",
       "      <td>1</td>\n",
       "    </tr>\n",
       "  </tbody>\n",
       "</table>\n",
       "<p>5 rows × 21 columns</p>\n",
       "</div>"
      ],
      "text/plain": [
       "   battery_power  blue  clock_speed  dual_sim  fc  four_g  int_memory  m_dep  \\\n",
       "0          842.0     0          2.2         0   1       0         7.0    0.6   \n",
       "1         1021.0     1          0.5         1   0       1        53.0    0.7   \n",
       "2          563.0     1          0.5         1   2       1        41.0    0.9   \n",
       "3          615.0     1          2.5         0   0       0        10.0    0.8   \n",
       "4         1821.0     1          1.2         0  13       1        44.0    0.6   \n",
       "\n",
       "   mobile_wt  n_cores  ...  px_height  px_width     ram  sc_h  sc_w  \\\n",
       "0      188.0        2  ...         20     756.0  2549.0     9     7   \n",
       "1      136.0        3  ...        905    1988.0  2631.0    17     3   \n",
       "2      145.0        5  ...       1263    1716.0  2603.0    11     2   \n",
       "3      131.0        6  ...       1216    1786.0  2769.0    16     8   \n",
       "4      141.0        2  ...       1208    1212.0  1411.0     8     2   \n",
       "\n",
       "   talk_time  three_g  touch_screen  wifi  price_range  \n",
       "0       19.0        0             0     1            1  \n",
       "1        7.0        1             1     0            2  \n",
       "2        9.0        1             1     0            2  \n",
       "3       11.0        1             0     0            2  \n",
       "4       15.0        1             1     0            1  \n",
       "\n",
       "[5 rows x 21 columns]"
      ]
     },
     "execution_count": 17,
     "metadata": {},
     "output_type": "execute_result"
    }
   ],
   "source": [
    "#To display top 5 rows\n",
    "df.head()"
   ]
  },
  {
   "cell_type": "code",
   "execution_count": 18,
   "id": "95de49a7-775e-430e-a50c-443e48eaa7ca",
   "metadata": {},
   "outputs": [
    {
     "data": {
      "text/html": [
       "<div>\n",
       "<style scoped>\n",
       "    .dataframe tbody tr th:only-of-type {\n",
       "        vertical-align: middle;\n",
       "    }\n",
       "\n",
       "    .dataframe tbody tr th {\n",
       "        vertical-align: top;\n",
       "    }\n",
       "\n",
       "    .dataframe thead th {\n",
       "        text-align: right;\n",
       "    }\n",
       "</style>\n",
       "<table border=\"1\" class=\"dataframe\">\n",
       "  <thead>\n",
       "    <tr style=\"text-align: right;\">\n",
       "      <th></th>\n",
       "      <th>battery_power</th>\n",
       "      <th>blue</th>\n",
       "      <th>clock_speed</th>\n",
       "      <th>dual_sim</th>\n",
       "      <th>fc</th>\n",
       "      <th>four_g</th>\n",
       "      <th>int_memory</th>\n",
       "      <th>m_dep</th>\n",
       "      <th>mobile_wt</th>\n",
       "      <th>n_cores</th>\n",
       "      <th>...</th>\n",
       "      <th>px_height</th>\n",
       "      <th>px_width</th>\n",
       "      <th>ram</th>\n",
       "      <th>sc_h</th>\n",
       "      <th>sc_w</th>\n",
       "      <th>talk_time</th>\n",
       "      <th>three_g</th>\n",
       "      <th>touch_screen</th>\n",
       "      <th>wifi</th>\n",
       "      <th>price_range</th>\n",
       "    </tr>\n",
       "  </thead>\n",
       "  <tbody>\n",
       "    <tr>\n",
       "      <th>2002</th>\n",
       "      <td>794.0</td>\n",
       "      <td>1</td>\n",
       "      <td>0.5</td>\n",
       "      <td>1</td>\n",
       "      <td>0</td>\n",
       "      <td>1</td>\n",
       "      <td>2.0</td>\n",
       "      <td>0.8</td>\n",
       "      <td>NaN</td>\n",
       "      <td>6</td>\n",
       "      <td>...</td>\n",
       "      <td>1222</td>\n",
       "      <td>1890.0</td>\n",
       "      <td>NaN</td>\n",
       "      <td>13</td>\n",
       "      <td>4</td>\n",
       "      <td>19.0</td>\n",
       "      <td>1</td>\n",
       "      <td>1</td>\n",
       "      <td>0</td>\n",
       "      <td>0</td>\n",
       "    </tr>\n",
       "    <tr>\n",
       "      <th>2003</th>\n",
       "      <td>NaN</td>\n",
       "      <td>1</td>\n",
       "      <td>2.6</td>\n",
       "      <td>1</td>\n",
       "      <td>0</td>\n",
       "      <td>0</td>\n",
       "      <td>39.0</td>\n",
       "      <td>0.2</td>\n",
       "      <td>187.0</td>\n",
       "      <td>4</td>\n",
       "      <td>...</td>\n",
       "      <td>915</td>\n",
       "      <td>1965.0</td>\n",
       "      <td>2032.0</td>\n",
       "      <td>11</td>\n",
       "      <td>10</td>\n",
       "      <td>16.0</td>\n",
       "      <td>1</td>\n",
       "      <td>1</td>\n",
       "      <td>1</td>\n",
       "      <td>2</td>\n",
       "    </tr>\n",
       "    <tr>\n",
       "      <th>2004</th>\n",
       "      <td>1911.0</td>\n",
       "      <td>0</td>\n",
       "      <td>0.9</td>\n",
       "      <td>1</td>\n",
       "      <td>1</td>\n",
       "      <td>1</td>\n",
       "      <td>36.0</td>\n",
       "      <td>0.7</td>\n",
       "      <td>NaN</td>\n",
       "      <td>8</td>\n",
       "      <td>...</td>\n",
       "      <td>868</td>\n",
       "      <td>NaN</td>\n",
       "      <td>3057.0</td>\n",
       "      <td>9</td>\n",
       "      <td>1</td>\n",
       "      <td>5.0</td>\n",
       "      <td>1</td>\n",
       "      <td>1</td>\n",
       "      <td>0</td>\n",
       "      <td>3</td>\n",
       "    </tr>\n",
       "    <tr>\n",
       "      <th>2005</th>\n",
       "      <td>1512.0</td>\n",
       "      <td>0</td>\n",
       "      <td>0.9</td>\n",
       "      <td>0</td>\n",
       "      <td>4</td>\n",
       "      <td>1</td>\n",
       "      <td>46.0</td>\n",
       "      <td>0.1</td>\n",
       "      <td>145.0</td>\n",
       "      <td>5</td>\n",
       "      <td>...</td>\n",
       "      <td>336</td>\n",
       "      <td>670.0</td>\n",
       "      <td>869.0</td>\n",
       "      <td>18</td>\n",
       "      <td>10</td>\n",
       "      <td>19.0</td>\n",
       "      <td>1</td>\n",
       "      <td>1</td>\n",
       "      <td>1</td>\n",
       "      <td>0</td>\n",
       "    </tr>\n",
       "    <tr>\n",
       "      <th>2006</th>\n",
       "      <td>510.0</td>\n",
       "      <td>1</td>\n",
       "      <td>NaN</td>\n",
       "      <td>1</td>\n",
       "      <td>5</td>\n",
       "      <td>1</td>\n",
       "      <td>NaN</td>\n",
       "      <td>0.9</td>\n",
       "      <td>168.0</td>\n",
       "      <td>6</td>\n",
       "      <td>...</td>\n",
       "      <td>483</td>\n",
       "      <td>754.0</td>\n",
       "      <td>NaN</td>\n",
       "      <td>19</td>\n",
       "      <td>4</td>\n",
       "      <td>NaN</td>\n",
       "      <td>1</td>\n",
       "      <td>1</td>\n",
       "      <td>1</td>\n",
       "      <td>3</td>\n",
       "    </tr>\n",
       "  </tbody>\n",
       "</table>\n",
       "<p>5 rows × 21 columns</p>\n",
       "</div>"
      ],
      "text/plain": [
       "      battery_power  blue  clock_speed  dual_sim  fc  four_g  int_memory  \\\n",
       "2002          794.0     1          0.5         1   0       1         2.0   \n",
       "2003            NaN     1          2.6         1   0       0        39.0   \n",
       "2004         1911.0     0          0.9         1   1       1        36.0   \n",
       "2005         1512.0     0          0.9         0   4       1        46.0   \n",
       "2006          510.0     1          NaN         1   5       1         NaN   \n",
       "\n",
       "      m_dep  mobile_wt  n_cores  ...  px_height  px_width     ram  sc_h  sc_w  \\\n",
       "2002    0.8        NaN        6  ...       1222    1890.0     NaN    13     4   \n",
       "2003    0.2      187.0        4  ...        915    1965.0  2032.0    11    10   \n",
       "2004    0.7        NaN        8  ...        868       NaN  3057.0     9     1   \n",
       "2005    0.1      145.0        5  ...        336     670.0   869.0    18    10   \n",
       "2006    0.9      168.0        6  ...        483     754.0     NaN    19     4   \n",
       "\n",
       "      talk_time  three_g  touch_screen  wifi  price_range  \n",
       "2002       19.0        1             1     0            0  \n",
       "2003       16.0        1             1     1            2  \n",
       "2004        5.0        1             1     0            3  \n",
       "2005       19.0        1             1     1            0  \n",
       "2006        NaN        1             1     1            3  \n",
       "\n",
       "[5 rows x 21 columns]"
      ]
     },
     "execution_count": 18,
     "metadata": {},
     "output_type": "execute_result"
    }
   ],
   "source": [
    "#to display last 5 rows\n",
    "df.tail()"
   ]
  },
  {
   "cell_type": "markdown",
   "id": "a50045b6-2850-4290-913b-195671d5a2b5",
   "metadata": {},
   "source": [
    "**Analyzing dataset in depth and statistical information** \n",
    "- To know only the type of the data's, use dtypes method.\n",
    "- To know information of dataset, use info method.\n",
    "- To know the statistical information of the dataset, use describe method."
   ]
  },
  {
   "cell_type": "code",
   "execution_count": 19,
   "id": "51ff0f7b-4dfd-494c-8f21-2211cdcb8f74",
   "metadata": {},
   "outputs": [
    {
     "data": {
      "text/plain": [
       "battery_power    float64\n",
       "blue               int64\n",
       "clock_speed      float64\n",
       "dual_sim           int64\n",
       "fc                 int64\n",
       "four_g             int64\n",
       "int_memory       float64\n",
       "m_dep            float64\n",
       "mobile_wt        float64\n",
       "n_cores            int64\n",
       "pc                 int64\n",
       "px_height          int64\n",
       "px_width         float64\n",
       "ram              float64\n",
       "sc_h               int64\n",
       "sc_w               int64\n",
       "talk_time        float64\n",
       "three_g            int64\n",
       "touch_screen       int64\n",
       "wifi               int64\n",
       "price_range        int64\n",
       "dtype: object"
      ]
     },
     "execution_count": 19,
     "metadata": {},
     "output_type": "execute_result"
    }
   ],
   "source": [
    "df.dtypes"
   ]
  },
  {
   "cell_type": "code",
   "execution_count": 20,
   "id": "7cf2f9de-d4e4-44f6-848b-fc99e033e166",
   "metadata": {},
   "outputs": [
    {
     "name": "stdout",
     "output_type": "stream",
     "text": [
      "<class 'pandas.core.frame.DataFrame'>\n",
      "RangeIndex: 2007 entries, 0 to 2006\n",
      "Data columns (total 21 columns):\n",
      " #   Column         Non-Null Count  Dtype  \n",
      "---  ------         --------------  -----  \n",
      " 0   battery_power  2005 non-null   float64\n",
      " 1   blue           2007 non-null   int64  \n",
      " 2   clock_speed    2005 non-null   float64\n",
      " 3   dual_sim       2007 non-null   int64  \n",
      " 4   fc             2007 non-null   int64  \n",
      " 5   four_g         2007 non-null   int64  \n",
      " 6   int_memory     2005 non-null   float64\n",
      " 7   m_dep          2007 non-null   float64\n",
      " 8   mobile_wt      2004 non-null   float64\n",
      " 9   n_cores        2007 non-null   int64  \n",
      " 10  pc             2007 non-null   int64  \n",
      " 11  px_height      2007 non-null   int64  \n",
      " 12  px_width       2005 non-null   float64\n",
      " 13  ram            2004 non-null   float64\n",
      " 14  sc_h           2007 non-null   int64  \n",
      " 15  sc_w           2007 non-null   int64  \n",
      " 16  talk_time      2006 non-null   float64\n",
      " 17  three_g        2007 non-null   int64  \n",
      " 18  touch_screen   2007 non-null   int64  \n",
      " 19  wifi           2007 non-null   int64  \n",
      " 20  price_range    2007 non-null   int64  \n",
      "dtypes: float64(8), int64(13)\n",
      "memory usage: 329.4 KB\n"
     ]
    }
   ],
   "source": [
    "df.info()"
   ]
  },
  {
   "cell_type": "code",
   "execution_count": 21,
   "id": "d9f5b6a6-b229-4e76-a69f-2fc6fdd66f88",
   "metadata": {},
   "outputs": [
    {
     "data": {
      "text/html": [
       "<div>\n",
       "<style scoped>\n",
       "    .dataframe tbody tr th:only-of-type {\n",
       "        vertical-align: middle;\n",
       "    }\n",
       "\n",
       "    .dataframe tbody tr th {\n",
       "        vertical-align: top;\n",
       "    }\n",
       "\n",
       "    .dataframe thead th {\n",
       "        text-align: right;\n",
       "    }\n",
       "</style>\n",
       "<table border=\"1\" class=\"dataframe\">\n",
       "  <thead>\n",
       "    <tr style=\"text-align: right;\">\n",
       "      <th></th>\n",
       "      <th>battery_power</th>\n",
       "      <th>blue</th>\n",
       "      <th>clock_speed</th>\n",
       "      <th>dual_sim</th>\n",
       "      <th>fc</th>\n",
       "      <th>four_g</th>\n",
       "      <th>int_memory</th>\n",
       "      <th>m_dep</th>\n",
       "      <th>mobile_wt</th>\n",
       "      <th>n_cores</th>\n",
       "      <th>...</th>\n",
       "      <th>px_height</th>\n",
       "      <th>px_width</th>\n",
       "      <th>ram</th>\n",
       "      <th>sc_h</th>\n",
       "      <th>sc_w</th>\n",
       "      <th>talk_time</th>\n",
       "      <th>three_g</th>\n",
       "      <th>touch_screen</th>\n",
       "      <th>wifi</th>\n",
       "      <th>price_range</th>\n",
       "    </tr>\n",
       "  </thead>\n",
       "  <tbody>\n",
       "    <tr>\n",
       "      <th>count</th>\n",
       "      <td>2005.000000</td>\n",
       "      <td>2007.000000</td>\n",
       "      <td>2005.000000</td>\n",
       "      <td>2007.000000</td>\n",
       "      <td>2007.000000</td>\n",
       "      <td>2007.000000</td>\n",
       "      <td>2005.000000</td>\n",
       "      <td>2007.000000</td>\n",
       "      <td>2004.000000</td>\n",
       "      <td>2007.000000</td>\n",
       "      <td>...</td>\n",
       "      <td>2007.000000</td>\n",
       "      <td>2005.000000</td>\n",
       "      <td>2004.000000</td>\n",
       "      <td>2007.000000</td>\n",
       "      <td>2007.000000</td>\n",
       "      <td>2006.000000</td>\n",
       "      <td>2007.000000</td>\n",
       "      <td>2007.000000</td>\n",
       "      <td>2007.000000</td>\n",
       "      <td>2007.000000</td>\n",
       "    </tr>\n",
       "    <tr>\n",
       "      <th>mean</th>\n",
       "      <td>1238.215461</td>\n",
       "      <td>0.495267</td>\n",
       "      <td>1.521147</td>\n",
       "      <td>0.509716</td>\n",
       "      <td>4.299950</td>\n",
       "      <td>0.521674</td>\n",
       "      <td>32.036908</td>\n",
       "      <td>0.501694</td>\n",
       "      <td>140.279441</td>\n",
       "      <td>4.522172</td>\n",
       "      <td>...</td>\n",
       "      <td>645.468859</td>\n",
       "      <td>1251.575561</td>\n",
       "      <td>2124.952595</td>\n",
       "      <td>12.314400</td>\n",
       "      <td>5.774788</td>\n",
       "      <td>11.011466</td>\n",
       "      <td>0.762332</td>\n",
       "      <td>0.504733</td>\n",
       "      <td>0.507225</td>\n",
       "      <td>1.501744</td>\n",
       "    </tr>\n",
       "    <tr>\n",
       "      <th>std</th>\n",
       "      <td>439.664861</td>\n",
       "      <td>0.500102</td>\n",
       "      <td>0.816216</td>\n",
       "      <td>0.500030</td>\n",
       "      <td>4.338347</td>\n",
       "      <td>0.499655</td>\n",
       "      <td>18.141758</td>\n",
       "      <td>0.288526</td>\n",
       "      <td>35.387644</td>\n",
       "      <td>2.287070</td>\n",
       "      <td>...</td>\n",
       "      <td>443.371182</td>\n",
       "      <td>432.540876</td>\n",
       "      <td>1085.040188</td>\n",
       "      <td>4.212963</td>\n",
       "      <td>4.360054</td>\n",
       "      <td>5.468966</td>\n",
       "      <td>0.425761</td>\n",
       "      <td>0.500102</td>\n",
       "      <td>0.500072</td>\n",
       "      <td>1.119425</td>\n",
       "    </tr>\n",
       "    <tr>\n",
       "      <th>min</th>\n",
       "      <td>501.000000</td>\n",
       "      <td>0.000000</td>\n",
       "      <td>0.500000</td>\n",
       "      <td>0.000000</td>\n",
       "      <td>0.000000</td>\n",
       "      <td>0.000000</td>\n",
       "      <td>2.000000</td>\n",
       "      <td>0.100000</td>\n",
       "      <td>80.000000</td>\n",
       "      <td>1.000000</td>\n",
       "      <td>...</td>\n",
       "      <td>0.000000</td>\n",
       "      <td>500.000000</td>\n",
       "      <td>256.000000</td>\n",
       "      <td>5.000000</td>\n",
       "      <td>0.000000</td>\n",
       "      <td>2.000000</td>\n",
       "      <td>0.000000</td>\n",
       "      <td>0.000000</td>\n",
       "      <td>0.000000</td>\n",
       "      <td>0.000000</td>\n",
       "    </tr>\n",
       "    <tr>\n",
       "      <th>25%</th>\n",
       "      <td>851.000000</td>\n",
       "      <td>0.000000</td>\n",
       "      <td>0.700000</td>\n",
       "      <td>0.000000</td>\n",
       "      <td>1.000000</td>\n",
       "      <td>0.000000</td>\n",
       "      <td>16.000000</td>\n",
       "      <td>0.200000</td>\n",
       "      <td>109.000000</td>\n",
       "      <td>3.000000</td>\n",
       "      <td>...</td>\n",
       "      <td>284.000000</td>\n",
       "      <td>874.000000</td>\n",
       "      <td>1207.500000</td>\n",
       "      <td>9.000000</td>\n",
       "      <td>2.000000</td>\n",
       "      <td>6.000000</td>\n",
       "      <td>1.000000</td>\n",
       "      <td>0.000000</td>\n",
       "      <td>0.000000</td>\n",
       "      <td>0.500000</td>\n",
       "    </tr>\n",
       "    <tr>\n",
       "      <th>50%</th>\n",
       "      <td>1225.000000</td>\n",
       "      <td>0.000000</td>\n",
       "      <td>1.500000</td>\n",
       "      <td>1.000000</td>\n",
       "      <td>3.000000</td>\n",
       "      <td>1.000000</td>\n",
       "      <td>32.000000</td>\n",
       "      <td>0.500000</td>\n",
       "      <td>141.000000</td>\n",
       "      <td>4.000000</td>\n",
       "      <td>...</td>\n",
       "      <td>564.000000</td>\n",
       "      <td>1247.000000</td>\n",
       "      <td>2146.500000</td>\n",
       "      <td>12.000000</td>\n",
       "      <td>5.000000</td>\n",
       "      <td>11.000000</td>\n",
       "      <td>1.000000</td>\n",
       "      <td>1.000000</td>\n",
       "      <td>1.000000</td>\n",
       "      <td>2.000000</td>\n",
       "    </tr>\n",
       "    <tr>\n",
       "      <th>75%</th>\n",
       "      <td>1615.000000</td>\n",
       "      <td>1.000000</td>\n",
       "      <td>2.200000</td>\n",
       "      <td>1.000000</td>\n",
       "      <td>7.000000</td>\n",
       "      <td>1.000000</td>\n",
       "      <td>48.000000</td>\n",
       "      <td>0.800000</td>\n",
       "      <td>170.000000</td>\n",
       "      <td>7.000000</td>\n",
       "      <td>...</td>\n",
       "      <td>946.500000</td>\n",
       "      <td>1633.000000</td>\n",
       "      <td>3064.500000</td>\n",
       "      <td>16.000000</td>\n",
       "      <td>9.000000</td>\n",
       "      <td>16.000000</td>\n",
       "      <td>1.000000</td>\n",
       "      <td>1.000000</td>\n",
       "      <td>1.000000</td>\n",
       "      <td>3.000000</td>\n",
       "    </tr>\n",
       "    <tr>\n",
       "      <th>max</th>\n",
       "      <td>1998.000000</td>\n",
       "      <td>1.000000</td>\n",
       "      <td>3.000000</td>\n",
       "      <td>1.000000</td>\n",
       "      <td>19.000000</td>\n",
       "      <td>1.000000</td>\n",
       "      <td>64.000000</td>\n",
       "      <td>1.000000</td>\n",
       "      <td>200.000000</td>\n",
       "      <td>8.000000</td>\n",
       "      <td>...</td>\n",
       "      <td>1960.000000</td>\n",
       "      <td>1998.000000</td>\n",
       "      <td>3998.000000</td>\n",
       "      <td>19.000000</td>\n",
       "      <td>18.000000</td>\n",
       "      <td>20.000000</td>\n",
       "      <td>1.000000</td>\n",
       "      <td>1.000000</td>\n",
       "      <td>1.000000</td>\n",
       "      <td>3.000000</td>\n",
       "    </tr>\n",
       "  </tbody>\n",
       "</table>\n",
       "<p>8 rows × 21 columns</p>\n",
       "</div>"
      ],
      "text/plain": [
       "       battery_power         blue  clock_speed     dual_sim           fc  \\\n",
       "count    2005.000000  2007.000000  2005.000000  2007.000000  2007.000000   \n",
       "mean     1238.215461     0.495267     1.521147     0.509716     4.299950   \n",
       "std       439.664861     0.500102     0.816216     0.500030     4.338347   \n",
       "min       501.000000     0.000000     0.500000     0.000000     0.000000   \n",
       "25%       851.000000     0.000000     0.700000     0.000000     1.000000   \n",
       "50%      1225.000000     0.000000     1.500000     1.000000     3.000000   \n",
       "75%      1615.000000     1.000000     2.200000     1.000000     7.000000   \n",
       "max      1998.000000     1.000000     3.000000     1.000000    19.000000   \n",
       "\n",
       "            four_g   int_memory        m_dep    mobile_wt      n_cores  ...  \\\n",
       "count  2007.000000  2005.000000  2007.000000  2004.000000  2007.000000  ...   \n",
       "mean      0.521674    32.036908     0.501694   140.279441     4.522172  ...   \n",
       "std       0.499655    18.141758     0.288526    35.387644     2.287070  ...   \n",
       "min       0.000000     2.000000     0.100000    80.000000     1.000000  ...   \n",
       "25%       0.000000    16.000000     0.200000   109.000000     3.000000  ...   \n",
       "50%       1.000000    32.000000     0.500000   141.000000     4.000000  ...   \n",
       "75%       1.000000    48.000000     0.800000   170.000000     7.000000  ...   \n",
       "max       1.000000    64.000000     1.000000   200.000000     8.000000  ...   \n",
       "\n",
       "         px_height     px_width          ram         sc_h         sc_w  \\\n",
       "count  2007.000000  2005.000000  2004.000000  2007.000000  2007.000000   \n",
       "mean    645.468859  1251.575561  2124.952595    12.314400     5.774788   \n",
       "std     443.371182   432.540876  1085.040188     4.212963     4.360054   \n",
       "min       0.000000   500.000000   256.000000     5.000000     0.000000   \n",
       "25%     284.000000   874.000000  1207.500000     9.000000     2.000000   \n",
       "50%     564.000000  1247.000000  2146.500000    12.000000     5.000000   \n",
       "75%     946.500000  1633.000000  3064.500000    16.000000     9.000000   \n",
       "max    1960.000000  1998.000000  3998.000000    19.000000    18.000000   \n",
       "\n",
       "         talk_time      three_g  touch_screen         wifi  price_range  \n",
       "count  2006.000000  2007.000000   2007.000000  2007.000000  2007.000000  \n",
       "mean     11.011466     0.762332      0.504733     0.507225     1.501744  \n",
       "std       5.468966     0.425761      0.500102     0.500072     1.119425  \n",
       "min       2.000000     0.000000      0.000000     0.000000     0.000000  \n",
       "25%       6.000000     1.000000      0.000000     0.000000     0.500000  \n",
       "50%      11.000000     1.000000      1.000000     1.000000     2.000000  \n",
       "75%      16.000000     1.000000      1.000000     1.000000     3.000000  \n",
       "max      20.000000     1.000000      1.000000     1.000000     3.000000  \n",
       "\n",
       "[8 rows x 21 columns]"
      ]
     },
     "execution_count": 21,
     "metadata": {},
     "output_type": "execute_result"
    }
   ],
   "source": [
    "df.describe()"
   ]
  },
  {
   "cell_type": "code",
   "execution_count": 22,
   "id": "95ae5ccf-eb31-457d-9c03-1940a6e485bf",
   "metadata": {},
   "outputs": [
    {
     "data": {
      "text/plain": [
       "Index(['battery_power', 'blue', 'clock_speed', 'dual_sim', 'fc', 'four_g',\n",
       "       'int_memory', 'm_dep', 'mobile_wt', 'n_cores', 'pc', 'px_height',\n",
       "       'px_width', 'ram', 'sc_h', 'sc_w', 'talk_time', 'three_g',\n",
       "       'touch_screen', 'wifi', 'price_range'],\n",
       "      dtype='object')"
      ]
     },
     "execution_count": 22,
     "metadata": {},
     "output_type": "execute_result"
    }
   ],
   "source": [
    "# Returns column names\n",
    "df.columns"
   ]
  },
  {
   "cell_type": "code",
   "execution_count": 23,
   "id": "3d53006f-f453-45fd-b7f0-6380b529acd1",
   "metadata": {},
   "outputs": [
    {
     "data": {
      "text/plain": [
       "(2007, 21)"
      ]
     },
     "execution_count": 23,
     "metadata": {},
     "output_type": "execute_result"
    }
   ],
   "source": [
    "# Returns shape of the dataframe\n",
    "df.shape"
   ]
  },
  {
   "cell_type": "code",
   "execution_count": 24,
   "id": "7d132cdd-8287-4735-94e6-ad27091f6c90",
   "metadata": {},
   "outputs": [
    {
     "data": {
      "text/plain": [
       "battery_power    2005\n",
       "blue             2007\n",
       "clock_speed      2005\n",
       "dual_sim         2007\n",
       "fc               2007\n",
       "four_g           2007\n",
       "int_memory       2005\n",
       "m_dep            2007\n",
       "mobile_wt        2004\n",
       "n_cores          2007\n",
       "pc               2007\n",
       "px_height        2007\n",
       "px_width         2005\n",
       "ram              2004\n",
       "sc_h             2007\n",
       "sc_w             2007\n",
       "talk_time        2006\n",
       "three_g          2007\n",
       "touch_screen     2007\n",
       "wifi             2007\n",
       "price_range      2007\n",
       "dtype: int64"
      ]
     },
     "execution_count": 24,
     "metadata": {},
     "output_type": "execute_result"
    }
   ],
   "source": [
    "# Gives the count of values in each column\n",
    "df.count()"
   ]
  },
  {
   "cell_type": "markdown",
   "id": "10432cdb-1905-4996-809b-91e11a147fe2",
   "metadata": {},
   "source": [
    "**Dropping and filling null Values**\n",
    "- In the given dataset, always check for null values.\n",
    "- To overcome the NA values, it is better to drop or fill it with their respective mean or mode values.\n",
    "- If it is `numerical column` then use the `mean` to fill the na values.\n",
    "- If it is `categorical column` then use the `mode` to fill the na values.\n",
    "- In this dataset, Since all the values are in numerical, we will be filling it with their respective mean value.\n",
    "- Since `talk_time` column in this dataset has only one NA value, we can drop the NA value."
   ]
  },
  {
   "cell_type": "code",
   "execution_count": 25,
   "id": "1f1b70d3-646e-4445-ac1f-38a8d6e066b1",
   "metadata": {},
   "outputs": [
    {
     "data": {
      "text/plain": [
       "(2007, 21)"
      ]
     },
     "execution_count": 25,
     "metadata": {},
     "output_type": "execute_result"
    }
   ],
   "source": [
    "df.shape"
   ]
  },
  {
   "cell_type": "code",
   "execution_count": 26,
   "id": "df09def1-c533-4a8a-986f-baa93df430bb",
   "metadata": {},
   "outputs": [
    {
     "data": {
      "text/plain": [
       "battery_power    2\n",
       "blue             0\n",
       "clock_speed      2\n",
       "dual_sim         0\n",
       "fc               0\n",
       "four_g           0\n",
       "int_memory       2\n",
       "m_dep            0\n",
       "mobile_wt        3\n",
       "n_cores          0\n",
       "pc               0\n",
       "px_height        0\n",
       "px_width         2\n",
       "ram              3\n",
       "sc_h             0\n",
       "sc_w             0\n",
       "talk_time        1\n",
       "three_g          0\n",
       "touch_screen     0\n",
       "wifi             0\n",
       "price_range      0\n",
       "dtype: int64"
      ]
     },
     "execution_count": 26,
     "metadata": {},
     "output_type": "execute_result"
    }
   ],
   "source": [
    "#Checking for NA values\n",
    "df.isna().sum()"
   ]
  },
  {
   "cell_type": "code",
   "execution_count": 27,
   "id": "a077dbdc-b91c-49e5-b6c8-54623b382193",
   "metadata": {},
   "outputs": [],
   "source": [
    "df['battery_power'] = df['battery_power'].fillna(df['battery_power'].mean())\n",
    "df['clock_speed'] = df['clock_speed'].fillna(df['clock_speed'].mean())\n",
    "df['int_memory'] = df['int_memory'].fillna(df['int_memory'].mean())\n",
    "df['mobile_wt'] = df['mobile_wt'].fillna(df['mobile_wt'].mean())\n",
    "df['px_width'] = df['px_width'].fillna(df['px_width'].mean())\n",
    "df['ram'] = df['ram'].fillna(df['ram'].mean())\n",
    "df.dropna(axis=0, how='any',inplace=True)"
   ]
  },
  {
   "cell_type": "code",
   "execution_count": 28,
   "id": "e32d1a1a-75bd-4723-9efa-9468e902aab7",
   "metadata": {},
   "outputs": [
    {
     "data": {
      "text/plain": [
       "battery_power    0\n",
       "blue             0\n",
       "clock_speed      0\n",
       "dual_sim         0\n",
       "fc               0\n",
       "four_g           0\n",
       "int_memory       0\n",
       "m_dep            0\n",
       "mobile_wt        0\n",
       "n_cores          0\n",
       "pc               0\n",
       "px_height        0\n",
       "px_width         0\n",
       "ram              0\n",
       "sc_h             0\n",
       "sc_w             0\n",
       "talk_time        0\n",
       "three_g          0\n",
       "touch_screen     0\n",
       "wifi             0\n",
       "price_range      0\n",
       "dtype: int64"
      ]
     },
     "execution_count": 28,
     "metadata": {},
     "output_type": "execute_result"
    }
   ],
   "source": [
    "df.isna().sum()"
   ]
  },
  {
   "cell_type": "code",
   "execution_count": 29,
   "id": "583ca62e-144f-4f2b-8e49-b580d651d229",
   "metadata": {},
   "outputs": [
    {
     "data": {
      "text/plain": [
       "(2006, 21)"
      ]
     },
     "execution_count": 29,
     "metadata": {},
     "output_type": "execute_result"
    }
   ],
   "source": [
    "df.shape"
   ]
  },
  {
   "cell_type": "markdown",
   "id": "19ea59d9-4924-4cd1-9db1-f86653215e06",
   "metadata": {},
   "source": [
    "**Renaming the columns**\n",
    "- Renaming below mentioned columns.\n",
    "- blue as `bluetooth`\n",
    "- fc as `front_camera`\n",
    "- pc as `primary_camera`\n",
    "- sc_h, sc_w as `screen_height, screen_width`"
   ]
  },
  {
   "cell_type": "code",
   "execution_count": 30,
   "id": "8b62fef3-91cf-4f40-b764-a91a8798c266",
   "metadata": {},
   "outputs": [
    {
     "data": {
      "text/html": [
       "<div>\n",
       "<style scoped>\n",
       "    .dataframe tbody tr th:only-of-type {\n",
       "        vertical-align: middle;\n",
       "    }\n",
       "\n",
       "    .dataframe tbody tr th {\n",
       "        vertical-align: top;\n",
       "    }\n",
       "\n",
       "    .dataframe thead th {\n",
       "        text-align: right;\n",
       "    }\n",
       "</style>\n",
       "<table border=\"1\" class=\"dataframe\">\n",
       "  <thead>\n",
       "    <tr style=\"text-align: right;\">\n",
       "      <th></th>\n",
       "      <th>battery_power</th>\n",
       "      <th>bluetooth</th>\n",
       "      <th>clock_speed</th>\n",
       "      <th>dual_sim</th>\n",
       "      <th>front_camera</th>\n",
       "      <th>four_g</th>\n",
       "      <th>int_memory</th>\n",
       "      <th>m_dep</th>\n",
       "      <th>mobile_wt</th>\n",
       "      <th>n_cores</th>\n",
       "      <th>...</th>\n",
       "      <th>px_height</th>\n",
       "      <th>px_width</th>\n",
       "      <th>ram</th>\n",
       "      <th>screen_height</th>\n",
       "      <th>screen_width</th>\n",
       "      <th>talk_time</th>\n",
       "      <th>three_g</th>\n",
       "      <th>touch_screen</th>\n",
       "      <th>wifi</th>\n",
       "      <th>price_range</th>\n",
       "    </tr>\n",
       "  </thead>\n",
       "  <tbody>\n",
       "    <tr>\n",
       "      <th>0</th>\n",
       "      <td>842.0</td>\n",
       "      <td>0</td>\n",
       "      <td>2.2</td>\n",
       "      <td>0</td>\n",
       "      <td>1</td>\n",
       "      <td>0</td>\n",
       "      <td>7.0</td>\n",
       "      <td>0.6</td>\n",
       "      <td>188.0</td>\n",
       "      <td>2</td>\n",
       "      <td>...</td>\n",
       "      <td>20</td>\n",
       "      <td>756.0</td>\n",
       "      <td>2549.0</td>\n",
       "      <td>9</td>\n",
       "      <td>7</td>\n",
       "      <td>19.0</td>\n",
       "      <td>0</td>\n",
       "      <td>0</td>\n",
       "      <td>1</td>\n",
       "      <td>1</td>\n",
       "    </tr>\n",
       "    <tr>\n",
       "      <th>1</th>\n",
       "      <td>1021.0</td>\n",
       "      <td>1</td>\n",
       "      <td>0.5</td>\n",
       "      <td>1</td>\n",
       "      <td>0</td>\n",
       "      <td>1</td>\n",
       "      <td>53.0</td>\n",
       "      <td>0.7</td>\n",
       "      <td>136.0</td>\n",
       "      <td>3</td>\n",
       "      <td>...</td>\n",
       "      <td>905</td>\n",
       "      <td>1988.0</td>\n",
       "      <td>2631.0</td>\n",
       "      <td>17</td>\n",
       "      <td>3</td>\n",
       "      <td>7.0</td>\n",
       "      <td>1</td>\n",
       "      <td>1</td>\n",
       "      <td>0</td>\n",
       "      <td>2</td>\n",
       "    </tr>\n",
       "    <tr>\n",
       "      <th>2</th>\n",
       "      <td>563.0</td>\n",
       "      <td>1</td>\n",
       "      <td>0.5</td>\n",
       "      <td>1</td>\n",
       "      <td>2</td>\n",
       "      <td>1</td>\n",
       "      <td>41.0</td>\n",
       "      <td>0.9</td>\n",
       "      <td>145.0</td>\n",
       "      <td>5</td>\n",
       "      <td>...</td>\n",
       "      <td>1263</td>\n",
       "      <td>1716.0</td>\n",
       "      <td>2603.0</td>\n",
       "      <td>11</td>\n",
       "      <td>2</td>\n",
       "      <td>9.0</td>\n",
       "      <td>1</td>\n",
       "      <td>1</td>\n",
       "      <td>0</td>\n",
       "      <td>2</td>\n",
       "    </tr>\n",
       "    <tr>\n",
       "      <th>3</th>\n",
       "      <td>615.0</td>\n",
       "      <td>1</td>\n",
       "      <td>2.5</td>\n",
       "      <td>0</td>\n",
       "      <td>0</td>\n",
       "      <td>0</td>\n",
       "      <td>10.0</td>\n",
       "      <td>0.8</td>\n",
       "      <td>131.0</td>\n",
       "      <td>6</td>\n",
       "      <td>...</td>\n",
       "      <td>1216</td>\n",
       "      <td>1786.0</td>\n",
       "      <td>2769.0</td>\n",
       "      <td>16</td>\n",
       "      <td>8</td>\n",
       "      <td>11.0</td>\n",
       "      <td>1</td>\n",
       "      <td>0</td>\n",
       "      <td>0</td>\n",
       "      <td>2</td>\n",
       "    </tr>\n",
       "    <tr>\n",
       "      <th>4</th>\n",
       "      <td>1821.0</td>\n",
       "      <td>1</td>\n",
       "      <td>1.2</td>\n",
       "      <td>0</td>\n",
       "      <td>13</td>\n",
       "      <td>1</td>\n",
       "      <td>44.0</td>\n",
       "      <td>0.6</td>\n",
       "      <td>141.0</td>\n",
       "      <td>2</td>\n",
       "      <td>...</td>\n",
       "      <td>1208</td>\n",
       "      <td>1212.0</td>\n",
       "      <td>1411.0</td>\n",
       "      <td>8</td>\n",
       "      <td>2</td>\n",
       "      <td>15.0</td>\n",
       "      <td>1</td>\n",
       "      <td>1</td>\n",
       "      <td>0</td>\n",
       "      <td>1</td>\n",
       "    </tr>\n",
       "  </tbody>\n",
       "</table>\n",
       "<p>5 rows × 21 columns</p>\n",
       "</div>"
      ],
      "text/plain": [
       "   battery_power  bluetooth  clock_speed  dual_sim  front_camera  four_g  \\\n",
       "0          842.0          0          2.2         0             1       0   \n",
       "1         1021.0          1          0.5         1             0       1   \n",
       "2          563.0          1          0.5         1             2       1   \n",
       "3          615.0          1          2.5         0             0       0   \n",
       "4         1821.0          1          1.2         0            13       1   \n",
       "\n",
       "   int_memory  m_dep  mobile_wt  n_cores  ...  px_height  px_width     ram  \\\n",
       "0         7.0    0.6      188.0        2  ...         20     756.0  2549.0   \n",
       "1        53.0    0.7      136.0        3  ...        905    1988.0  2631.0   \n",
       "2        41.0    0.9      145.0        5  ...       1263    1716.0  2603.0   \n",
       "3        10.0    0.8      131.0        6  ...       1216    1786.0  2769.0   \n",
       "4        44.0    0.6      141.0        2  ...       1208    1212.0  1411.0   \n",
       "\n",
       "   screen_height  screen_width  talk_time  three_g  touch_screen  wifi  \\\n",
       "0              9             7       19.0        0             0     1   \n",
       "1             17             3        7.0        1             1     0   \n",
       "2             11             2        9.0        1             1     0   \n",
       "3             16             8       11.0        1             0     0   \n",
       "4              8             2       15.0        1             1     0   \n",
       "\n",
       "   price_range  \n",
       "0            1  \n",
       "1            2  \n",
       "2            2  \n",
       "3            2  \n",
       "4            1  \n",
       "\n",
       "[5 rows x 21 columns]"
      ]
     },
     "execution_count": 30,
     "metadata": {},
     "output_type": "execute_result"
    }
   ],
   "source": [
    "df = df.rename(columns={\"blue\":\"bluetooth\", \"fc\":\"front_camera\", \"pc\":\"primary_camera\", \"sc_h\":\"screen_height\", \"sc_w\":\"screen_width\"})\n",
    "df.head()"
   ]
  },
  {
   "cell_type": "markdown",
   "id": "a8a1a55e-ed8d-4c2c-92f0-2fca536554f3",
   "metadata": {},
   "source": [
    "**Dropping irrelevant columns**\n",
    "- In this dataset, we need to predict the price_range.\n",
    "- Drop the `three_g` column, since we have four_g column it represents whether we have 3g or not."
   ]
  },
  {
   "cell_type": "code",
   "execution_count": 31,
   "id": "4034c040-ee24-40d8-b2aa-59f9bb1d91bf",
   "metadata": {},
   "outputs": [],
   "source": [
    "df.drop(['three_g'],axis=1,inplace=True)"
   ]
  },
  {
   "cell_type": "code",
   "execution_count": 32,
   "id": "0d9ff6c8-c060-41ec-b86b-f08ebccb927a",
   "metadata": {},
   "outputs": [
    {
     "data": {
      "text/html": [
       "<div>\n",
       "<style scoped>\n",
       "    .dataframe tbody tr th:only-of-type {\n",
       "        vertical-align: middle;\n",
       "    }\n",
       "\n",
       "    .dataframe tbody tr th {\n",
       "        vertical-align: top;\n",
       "    }\n",
       "\n",
       "    .dataframe thead th {\n",
       "        text-align: right;\n",
       "    }\n",
       "</style>\n",
       "<table border=\"1\" class=\"dataframe\">\n",
       "  <thead>\n",
       "    <tr style=\"text-align: right;\">\n",
       "      <th></th>\n",
       "      <th>battery_power</th>\n",
       "      <th>bluetooth</th>\n",
       "      <th>clock_speed</th>\n",
       "      <th>dual_sim</th>\n",
       "      <th>front_camera</th>\n",
       "      <th>four_g</th>\n",
       "      <th>int_memory</th>\n",
       "      <th>m_dep</th>\n",
       "      <th>mobile_wt</th>\n",
       "      <th>n_cores</th>\n",
       "      <th>primary_camera</th>\n",
       "      <th>px_height</th>\n",
       "      <th>px_width</th>\n",
       "      <th>ram</th>\n",
       "      <th>screen_height</th>\n",
       "      <th>screen_width</th>\n",
       "      <th>talk_time</th>\n",
       "      <th>touch_screen</th>\n",
       "      <th>wifi</th>\n",
       "      <th>price_range</th>\n",
       "    </tr>\n",
       "  </thead>\n",
       "  <tbody>\n",
       "    <tr>\n",
       "      <th>0</th>\n",
       "      <td>842.0</td>\n",
       "      <td>0</td>\n",
       "      <td>2.2</td>\n",
       "      <td>0</td>\n",
       "      <td>1</td>\n",
       "      <td>0</td>\n",
       "      <td>7.0</td>\n",
       "      <td>0.6</td>\n",
       "      <td>188.0</td>\n",
       "      <td>2</td>\n",
       "      <td>2</td>\n",
       "      <td>20</td>\n",
       "      <td>756.0</td>\n",
       "      <td>2549.0</td>\n",
       "      <td>9</td>\n",
       "      <td>7</td>\n",
       "      <td>19.0</td>\n",
       "      <td>0</td>\n",
       "      <td>1</td>\n",
       "      <td>1</td>\n",
       "    </tr>\n",
       "    <tr>\n",
       "      <th>1</th>\n",
       "      <td>1021.0</td>\n",
       "      <td>1</td>\n",
       "      <td>0.5</td>\n",
       "      <td>1</td>\n",
       "      <td>0</td>\n",
       "      <td>1</td>\n",
       "      <td>53.0</td>\n",
       "      <td>0.7</td>\n",
       "      <td>136.0</td>\n",
       "      <td>3</td>\n",
       "      <td>6</td>\n",
       "      <td>905</td>\n",
       "      <td>1988.0</td>\n",
       "      <td>2631.0</td>\n",
       "      <td>17</td>\n",
       "      <td>3</td>\n",
       "      <td>7.0</td>\n",
       "      <td>1</td>\n",
       "      <td>0</td>\n",
       "      <td>2</td>\n",
       "    </tr>\n",
       "    <tr>\n",
       "      <th>2</th>\n",
       "      <td>563.0</td>\n",
       "      <td>1</td>\n",
       "      <td>0.5</td>\n",
       "      <td>1</td>\n",
       "      <td>2</td>\n",
       "      <td>1</td>\n",
       "      <td>41.0</td>\n",
       "      <td>0.9</td>\n",
       "      <td>145.0</td>\n",
       "      <td>5</td>\n",
       "      <td>6</td>\n",
       "      <td>1263</td>\n",
       "      <td>1716.0</td>\n",
       "      <td>2603.0</td>\n",
       "      <td>11</td>\n",
       "      <td>2</td>\n",
       "      <td>9.0</td>\n",
       "      <td>1</td>\n",
       "      <td>0</td>\n",
       "      <td>2</td>\n",
       "    </tr>\n",
       "    <tr>\n",
       "      <th>3</th>\n",
       "      <td>615.0</td>\n",
       "      <td>1</td>\n",
       "      <td>2.5</td>\n",
       "      <td>0</td>\n",
       "      <td>0</td>\n",
       "      <td>0</td>\n",
       "      <td>10.0</td>\n",
       "      <td>0.8</td>\n",
       "      <td>131.0</td>\n",
       "      <td>6</td>\n",
       "      <td>9</td>\n",
       "      <td>1216</td>\n",
       "      <td>1786.0</td>\n",
       "      <td>2769.0</td>\n",
       "      <td>16</td>\n",
       "      <td>8</td>\n",
       "      <td>11.0</td>\n",
       "      <td>0</td>\n",
       "      <td>0</td>\n",
       "      <td>2</td>\n",
       "    </tr>\n",
       "    <tr>\n",
       "      <th>4</th>\n",
       "      <td>1821.0</td>\n",
       "      <td>1</td>\n",
       "      <td>1.2</td>\n",
       "      <td>0</td>\n",
       "      <td>13</td>\n",
       "      <td>1</td>\n",
       "      <td>44.0</td>\n",
       "      <td>0.6</td>\n",
       "      <td>141.0</td>\n",
       "      <td>2</td>\n",
       "      <td>14</td>\n",
       "      <td>1208</td>\n",
       "      <td>1212.0</td>\n",
       "      <td>1411.0</td>\n",
       "      <td>8</td>\n",
       "      <td>2</td>\n",
       "      <td>15.0</td>\n",
       "      <td>1</td>\n",
       "      <td>0</td>\n",
       "      <td>1</td>\n",
       "    </tr>\n",
       "  </tbody>\n",
       "</table>\n",
       "</div>"
      ],
      "text/plain": [
       "   battery_power  bluetooth  clock_speed  dual_sim  front_camera  four_g  \\\n",
       "0          842.0          0          2.2         0             1       0   \n",
       "1         1021.0          1          0.5         1             0       1   \n",
       "2          563.0          1          0.5         1             2       1   \n",
       "3          615.0          1          2.5         0             0       0   \n",
       "4         1821.0          1          1.2         0            13       1   \n",
       "\n",
       "   int_memory  m_dep  mobile_wt  n_cores  primary_camera  px_height  px_width  \\\n",
       "0         7.0    0.6      188.0        2               2         20     756.0   \n",
       "1        53.0    0.7      136.0        3               6        905    1988.0   \n",
       "2        41.0    0.9      145.0        5               6       1263    1716.0   \n",
       "3        10.0    0.8      131.0        6               9       1216    1786.0   \n",
       "4        44.0    0.6      141.0        2              14       1208    1212.0   \n",
       "\n",
       "      ram  screen_height  screen_width  talk_time  touch_screen  wifi  \\\n",
       "0  2549.0              9             7       19.0             0     1   \n",
       "1  2631.0             17             3        7.0             1     0   \n",
       "2  2603.0             11             2        9.0             1     0   \n",
       "3  2769.0             16             8       11.0             0     0   \n",
       "4  1411.0              8             2       15.0             1     0   \n",
       "\n",
       "   price_range  \n",
       "0            1  \n",
       "1            2  \n",
       "2            2  \n",
       "3            2  \n",
       "4            1  "
      ]
     },
     "execution_count": 32,
     "metadata": {},
     "output_type": "execute_result"
    }
   ],
   "source": [
    "df.head()"
   ]
  },
  {
   "cell_type": "markdown",
   "id": "4a68d6e6-550c-45ba-b4b0-d7030c15092c",
   "metadata": {},
   "source": [
    "**Dropping the duplicated rows**\n",
    "- Huge dataset may have duplicated value.\n",
    "- First check for duplicate values. If any duplicate values are found, then drop it."
   ]
  },
  {
   "cell_type": "code",
   "execution_count": 33,
   "id": "7f9bd3f9-28ef-4d6e-b420-169bdd0c7bd7",
   "metadata": {},
   "outputs": [
    {
     "data": {
      "text/plain": [
       "(2006, 20)"
      ]
     },
     "execution_count": 33,
     "metadata": {},
     "output_type": "execute_result"
    }
   ],
   "source": [
    "df.shape"
   ]
  },
  {
   "cell_type": "code",
   "execution_count": 34,
   "id": "c8c823d1-c025-4fa3-8904-057362b125de",
   "metadata": {},
   "outputs": [
    {
     "data": {
      "text/plain": [
       "1"
      ]
     },
     "execution_count": 34,
     "metadata": {},
     "output_type": "execute_result"
    }
   ],
   "source": [
    "df.duplicated().sum()"
   ]
  },
  {
   "cell_type": "code",
   "execution_count": 35,
   "id": "e155ca67-5ff8-42ac-8fbb-ac1c05108a88",
   "metadata": {},
   "outputs": [
    {
     "data": {
      "text/html": [
       "<div>\n",
       "<style scoped>\n",
       "    .dataframe tbody tr th:only-of-type {\n",
       "        vertical-align: middle;\n",
       "    }\n",
       "\n",
       "    .dataframe tbody tr th {\n",
       "        vertical-align: top;\n",
       "    }\n",
       "\n",
       "    .dataframe thead th {\n",
       "        text-align: right;\n",
       "    }\n",
       "</style>\n",
       "<table border=\"1\" class=\"dataframe\">\n",
       "  <thead>\n",
       "    <tr style=\"text-align: right;\">\n",
       "      <th></th>\n",
       "      <th>battery_power</th>\n",
       "      <th>bluetooth</th>\n",
       "      <th>clock_speed</th>\n",
       "      <th>dual_sim</th>\n",
       "      <th>front_camera</th>\n",
       "      <th>four_g</th>\n",
       "      <th>int_memory</th>\n",
       "      <th>m_dep</th>\n",
       "      <th>mobile_wt</th>\n",
       "      <th>n_cores</th>\n",
       "      <th>primary_camera</th>\n",
       "      <th>px_height</th>\n",
       "      <th>px_width</th>\n",
       "      <th>ram</th>\n",
       "      <th>screen_height</th>\n",
       "      <th>screen_width</th>\n",
       "      <th>talk_time</th>\n",
       "      <th>touch_screen</th>\n",
       "      <th>wifi</th>\n",
       "      <th>price_range</th>\n",
       "    </tr>\n",
       "  </thead>\n",
       "  <tbody>\n",
       "    <tr>\n",
       "      <th>2005</th>\n",
       "      <td>1512.0</td>\n",
       "      <td>0</td>\n",
       "      <td>0.9</td>\n",
       "      <td>0</td>\n",
       "      <td>4</td>\n",
       "      <td>1</td>\n",
       "      <td>46.0</td>\n",
       "      <td>0.1</td>\n",
       "      <td>145.0</td>\n",
       "      <td>5</td>\n",
       "      <td>5</td>\n",
       "      <td>336</td>\n",
       "      <td>670.0</td>\n",
       "      <td>869.0</td>\n",
       "      <td>18</td>\n",
       "      <td>10</td>\n",
       "      <td>19.0</td>\n",
       "      <td>1</td>\n",
       "      <td>1</td>\n",
       "      <td>0</td>\n",
       "    </tr>\n",
       "  </tbody>\n",
       "</table>\n",
       "</div>"
      ],
      "text/plain": [
       "      battery_power  bluetooth  clock_speed  dual_sim  front_camera  four_g  \\\n",
       "2005         1512.0          0          0.9         0             4       1   \n",
       "\n",
       "      int_memory  m_dep  mobile_wt  n_cores  primary_camera  px_height  \\\n",
       "2005        46.0    0.1      145.0        5               5        336   \n",
       "\n",
       "      px_width    ram  screen_height  screen_width  talk_time  touch_screen  \\\n",
       "2005     670.0  869.0             18            10       19.0             1   \n",
       "\n",
       "      wifi  price_range  \n",
       "2005     1            0  "
      ]
     },
     "execution_count": 35,
     "metadata": {},
     "output_type": "execute_result"
    }
   ],
   "source": [
    "df[df.duplicated()]"
   ]
  },
  {
   "cell_type": "code",
   "execution_count": 36,
   "id": "f2426b2b-f98a-40c2-b464-fceac283560a",
   "metadata": {},
   "outputs": [
    {
     "data": {
      "text/plain": [
       "(2005, 20)"
      ]
     },
     "execution_count": 36,
     "metadata": {},
     "output_type": "execute_result"
    }
   ],
   "source": [
    "df = df.drop_duplicates()\n",
    "df.shape              #Before dropping the irrelevant column and duplicate rows, the shape of df is (2007, 21). After drop the shape became (2005, 20) "
   ]
  },
  {
   "cell_type": "markdown",
   "id": "5058a315-c4d6-4063-a017-978e0ac52521",
   "metadata": {},
   "source": [
    "**Detecting outliers**\n",
    "- An outlier is a point or set of points that are different from other points.\n",
    "- Sometimes they can be very high or very low. It's often a good idea to detect and remove the outliers"
   ]
  },
  {
   "cell_type": "markdown",
   "id": "6ede2062-57d1-4343-9e32-fc9fb02a27b2",
   "metadata": {},
   "source": [
    "- In this dataset, Using boxplot found the outliers in `front_camera` and `px_height` columns. Here we have analysed Uni-variate outlier.\n",
    "- Using IQR we can find Inter quartile range to remove the outliers.\n",
    "- Around 20 rows were outliers detected and removed from the dataset. Now, shape of the dataframe became as (1985, 20). \n"
   ]
  },
  {
   "cell_type": "code",
   "execution_count": 37,
   "id": "5e2937d8-81d8-48bb-82e3-0369bd60c012",
   "metadata": {},
   "outputs": [
    {
     "data": {
      "text/plain": [
       "<AxesSubplot: xlabel='battery_power'>"
      ]
     },
     "execution_count": 37,
     "metadata": {},
     "output_type": "execute_result"
    },
    {
     "data": {
      "image/png": "[encoded data removed]",
      "text/plain": [
       "<Figure size 432x288 with 1 Axes>"
      ]
     },
     "metadata": {
      "needs_background": "light"
     },
     "output_type": "display_data"
    }
   ],
   "source": [
    "sns.boxplot(x=df['battery_power'])"
   ]
  },
  {
   "cell_type": "code",
   "execution_count": 38,
   "id": "962bb383-0ecd-41c0-ab25-b99103a81e46",
   "metadata": {},
   "outputs": [
    {
     "data": {
      "text/plain": [
       "<AxesSubplot: xlabel='clock_speed'>"
      ]
     },
     "execution_count": 38,
     "metadata": {},
     "output_type": "execute_result"
    },
    {
     "data": {
      "image/png": "[encoded data removed]",
      "text/plain": [
       "<Figure size 432x288 with 1 Axes>"
      ]
     },
     "metadata": {
      "needs_background": "light"
     },
     "output_type": "display_data"
    }
   ],
   "source": [
    "sns.boxplot(x=df['clock_speed'])"
   ]
  },
  {
   "cell_type": "code",
   "execution_count": 39,
   "id": "773ceedc-1045-465d-ab51-047d572e837f",
   "metadata": {},
   "outputs": [
    {
     "data": {
      "text/plain": [
       "<AxesSubplot: xlabel='int_memory'>"
      ]
     },
     "execution_count": 39,
     "metadata": {},
     "output_type": "execute_result"
    },
    {
     "data": {
      "image/png": "[encoded data removed]",
      "text/plain": [
       "<Figure size 432x288 with 1 Axes>"
      ]
     },
     "metadata": {
      "needs_background": "light"
     },
     "output_type": "display_data"
    }
   ],
   "source": [
    "sns.boxplot(x=df['int_memory'])"
   ]
  },
  {
   "cell_type": "code",
   "execution_count": 40,
   "id": "4c724b0c-921d-4d11-bbdc-a9ce998a4745",
   "metadata": {},
   "outputs": [
    {
     "data": {
      "text/plain": [
       "<AxesSubplot: xlabel='front_camera'>"
      ]
     },
     "execution_count": 40,
     "metadata": {},
     "output_type": "execute_result"
    },
    {
     "data": {
      "image/png": "[encoded data removed]",
      "text/plain": [
       "<Figure size 432x288 with 1 Axes>"
      ]
     },
     "metadata": {
      "needs_background": "light"
     },
     "output_type": "display_data"
    }
   ],
   "source": [
    "sns.boxplot(x=df['front_camera'])"
   ]
  },
  {
   "cell_type": "code",
   "execution_count": 41,
   "id": "2b690d22-d375-41ce-b3f8-e47bbdb2a7ef",
   "metadata": {},
   "outputs": [
    {
     "data": {
      "text/plain": [
       "<AxesSubplot: xlabel='px_height'>"
      ]
     },
     "execution_count": 41,
     "metadata": {},
     "output_type": "execute_result"
    },
    {
     "data": {
      "image/png": "[encoded data removed]",
      "text/plain": [
       "<Figure size 432x288 with 1 Axes>"
      ]
     },
     "metadata": {
      "needs_background": "light"
     },
     "output_type": "display_data"
    }
   ],
   "source": [
    "sns.boxplot(x=df['px_height'])"
   ]
  },
  {
   "cell_type": "code",
   "execution_count": 42,
   "id": "f14f407b-25c6-4d72-944b-528b521ac3cc",
   "metadata": {},
   "outputs": [
    {
     "name": "stdout",
     "output_type": "stream",
     "text": [
      "battery_power      763.0\n",
      "bluetooth            1.0\n",
      "clock_speed          1.5\n",
      "dual_sim             1.0\n",
      "front_camera         6.0\n",
      "four_g               1.0\n",
      "int_memory          32.0\n",
      "m_dep                0.6\n",
      "mobile_wt           61.0\n",
      "n_cores              4.0\n",
      "primary_camera      10.0\n",
      "px_height          663.0\n",
      "px_width           757.0\n",
      "ram               1855.0\n",
      "screen_height        7.0\n",
      "screen_width         7.0\n",
      "talk_time           10.0\n",
      "touch_screen         1.0\n",
      "wifi                 1.0\n",
      "price_range          2.0\n",
      "dtype: float64\n"
     ]
    }
   ],
   "source": [
    "Q1 = df.quantile(0.25)\n",
    "Q3 = df.quantile(0.75)\n",
    "IQR = Q3 - Q1\n",
    "print(IQR)"
   ]
  },
  {
   "cell_type": "code",
   "execution_count": 44,
   "id": "f94671ab-60ca-44cd-bb75-bd8c7eae6b2d",
   "metadata": {},
   "outputs": [
    {
     "data": {
      "text/plain": [
       "(1985, 20)"
      ]
     },
     "execution_count": 44,
     "metadata": {},
     "output_type": "execute_result"
    }
   ],
   "source": [
    "df = df[~((df < (Q1 - 1.5 * IQR)) |(df > (Q3 + 1.5 * IQR))).any(axis=1)]\n",
    "df.shape"
   ]
  },
  {
   "cell_type": "markdown",
   "id": "ca4627b3-9853-4c98-98be-86b4597ed3dc",
   "metadata": {},
   "source": [
    "**<h3>Data Visualization</h3>**\n",
    "- The process of finding/Analyzing trends and correlations in our data by representing it pictorially.\n",
    "- From our dataset, First we are checking for correlation where it gives better understanding of dataset.\n",
    "- Next we are plotting bar and scatter plot to check whether the ram affecting the price of mobile more. And comparing with other features also."
   ]
  },
  {
   "cell_type": "code",
   "execution_count": null,
   "id": "b84c14aa-c5af-4b63-9a4b-dea15142ce81",
   "metadata": {},
   "outputs": [],
   "source": [
    "df.head()"
   ]
  },
  {
   "cell_type": "code",
   "execution_count": null,
   "id": "77497e2b-58ab-4e3a-80b1-94ed3d3c51ca",
   "metadata": {},
   "outputs": [],
   "source": [
    "plt.figure(figsize=(6,4))\n",
    "c= df.corr()\n",
    "sns.heatmap(c)"
   ]
  },
  {
   "cell_type": "code",
   "execution_count": null,
   "id": "95cf6808-804e-48c9-98c1-d45c1c8a71c1",
   "metadata": {},
   "outputs": [],
   "source": [
    "fig = plt.figure(figsize=(4,4))\n",
    "plt.bar(df['price_range'], df['ram'] )\n",
    "plt.title('Price Range')\n",
    "plt.xlabel('price_range')\n",
    "plt.ylabel('Ram')"
   ]
  },
  {
   "cell_type": "code",
   "execution_count": null,
   "id": "f3d2b3ef-49a3-4b8f-8680-1b48a86bcfc9",
   "metadata": {},
   "outputs": [],
   "source": [
    "plt.figure(figsize=(4,4))\n",
    "plt.bar(df['price_range'], df['int_memory'] )\n",
    "plt.title('PriceRange')\n",
    "plt.xlabel('price_range')\n",
    "plt.ylabel('int_memory')"
   ]
  },
  {
   "cell_type": "code",
   "execution_count": null,
   "id": "33955161-c2b5-4f19-9261-4bd3948caf25",
   "metadata": {},
   "outputs": [],
   "source": [
    "plt.figure(figsize=(4,4))\n",
    "x = df['price_range']\n",
    "y = df['ram']\n",
    "plt.scatter(x,y)"
   ]
  },
  {
   "cell_type": "code",
   "execution_count": null,
   "id": "1387b603-5d2f-47e5-b2c2-78a7f8ee771b",
   "metadata": {},
   "outputs": [],
   "source": [
    "plt.figure(figsize=(4,4))\n",
    "x = df['price_range']\n",
    "y = df['mobile_wt']\n",
    "plt.scatter(x,y)"
   ]
  },
  {
   "cell_type": "code",
   "execution_count": null,
   "id": "cab7a7ce-823c-4a5a-9ab5-a825ad0b3c68",
   "metadata": {},
   "outputs": [],
   "source": []
  },
  {
   "cell_type": "code",
   "execution_count": null,
   "id": "cb470d54-a4d8-4fc9-8dc4-572b3c81bd9d",
   "metadata": {},
   "outputs": [],
   "source": []
  },
  {
   "cell_type": "code",
   "execution_count": null,
   "id": "fb60dea6-bd2f-4cbc-9ad3-c873c5026f3a",
   "metadata": {},
   "outputs": [],
   "source": []
  },
  {
   "cell_type": "code",
   "execution_count": null,
   "id": "140976a2-4166-4ee7-a225-613abf5ea5af",
   "metadata": {},
   "outputs": [],
   "source": []
  },
  {
   "cell_type": "code",
   "execution_count": null,
   "id": "c6629b96-885b-46ff-b239-97510a90eeda",
   "metadata": {},
   "outputs": [],
   "source": []
  },
  {
   "cell_type": "code",
   "execution_count": null,
   "id": "96b71b0a-9fcf-414c-8f18-b791ac04d8ff",
   "metadata": {},
   "outputs": [],
   "source": []
  },
  {
   "cell_type": "code",
   "execution_count": null,
   "id": "3f3182e0-b908-4900-b168-3eb67b07ca4f",
   "metadata": {},
   "outputs": [],
   "source": []
  },
  {
   "cell_type": "code",
   "execution_count": null,
   "id": "d4486f5a-b1c6-46ed-8486-9730c6e5882c",
   "metadata": {},
   "outputs": [],
   "source": []
  },
  {
   "cell_type": "code",
   "execution_count": null,
   "id": "ad5db3b9-1bd6-4687-aff5-66e920c16e43",
   "metadata": {},
   "outputs": [],
   "source": []
  }
 ],
 "metadata": {
  "kernelspec": {
   "display_name": "Python 3 (ipykernel)",
   "language": "python",
   "name": "python3"
  },
  "language_info": {
   "codemirror_mode": {
    "name": "ipython",
    "version": 3
   },
   "file_extension": ".py",
   "mimetype": "text/x-python",
   "name": "python",
   "nbconvert_exporter": "python",
   "pygments_lexer": "ipython3",
   "version": "3.10.5"
  }
 },
 "nbformat": 4,
 "nbformat_minor": 5
}
